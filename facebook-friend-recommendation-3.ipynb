{
 "cells": [
  {
   "cell_type": "markdown",
   "metadata": {
    "colab_type": "text",
    "id": "naWvqMEMHglO"
   },
   "source": [
    "<p style=\"font-size:32px;text-align:center\"> <b>Social network Graph Link Prediction - Facebook Challenge</b> </p>"
   ]
  },
  {
   "cell_type": "code",
   "execution_count": 1,
   "metadata": {
    "colab": {},
    "colab_type": "code",
    "id": "9wb9N5RzHglP"
   },
   "outputs": [],
   "source": [
    "#Importing Libraries\n",
    "# please do go through this python notebook: \n",
    "import warnings\n",
    "warnings.filterwarnings(\"ignore\")\n",
    "\n",
    "import csv\n",
    "import pandas as pd#pandas to create small dataframes \n",
    "import datetime #Convert to unix time\n",
    "import time #Convert to unix time\n",
    "# if numpy is not installed already : pip3 install numpy\n",
    "import numpy as np#Do aritmetic operations on arrays\n",
    "# matplotlib: used to plot graphs\n",
    "import matplotlib\n",
    "import matplotlib.pylab as plt\n",
    "import seaborn as sns#Plots\n",
    "from matplotlib import rcParams#Size of plots  \n",
    "from sklearn.cluster import MiniBatchKMeans, KMeans#Clustering\n",
    "import math\n",
    "import pickle\n",
    "import os\n",
    "# to install xgboost: pip3 install xgboost\n",
    "import xgboost as xgb\n",
    "\n",
    "import warnings\n",
    "import networkx as nx\n",
    "import pdb\n",
    "import pickle\n",
    "from pandas import HDFStore,DataFrame\n",
    "from pandas import read_hdf\n",
    "from scipy.sparse.linalg import svds, eigs\n",
    "import gc\n",
    "from tqdm import tqdm\n",
    "from sklearn.ensemble import RandomForestClassifier\n",
    "from sklearn.metrics import f1_score"
   ]
  },
  {
   "cell_type": "code",
   "execution_count": 2,
   "metadata": {
    "colab": {},
    "colab_type": "code",
    "id": "XC4OJFKkHglU"
   },
   "outputs": [],
   "source": [
    "#reading\n",
    "from pandas import read_hdf\n",
    "df_final_train = read_hdf('data/fea_sample/storage_sample_stage4.h5', 'train_df',mode='r')\n",
    "df_final_test = read_hdf('data/fea_sample/storage_sample_stage4.h5', 'test_df',mode='r')"
   ]
  },
  {
   "cell_type": "code",
   "execution_count": 3,
   "metadata": {
    "colab": {},
    "colab_type": "code",
    "id": "5Gm-BHRkHglW",
    "outputId": "d2c2294c-113e-4fdb-d3e5-dc167dcf5fbc"
   },
   "outputs": [
    {
     "data": {
      "text/plain": [
       "Index(['source_node', 'destination_node', 'indicator_link',\n",
       "       'jaccard_followers', 'jaccard_followees', 'cosine_followers',\n",
       "       'cosine_followees', 'num_followers_s', 'num_followers_d',\n",
       "       'num_followees_s', 'num_followees_d', 'inter_followers',\n",
       "       'inter_followees', 'adar_index', 'follows_back', 'same_comp',\n",
       "       'shortest_path', 'weight_in', 'weight_out', 'weight_f1', 'weight_f2',\n",
       "       'weight_f3', 'weight_f4', 'page_rank_s', 'page_rank_d', 'katz_s',\n",
       "       'katz_d', 'hubs_s', 'hubs_d', 'authorities_s', 'authorities_d',\n",
       "       'svd_u_s_1', 'svd_u_s_2', 'svd_u_s_3', 'svd_u_s_4', 'svd_u_s_5',\n",
       "       'svd_u_s_6', 'svd_u_d_1', 'svd_u_d_2', 'svd_u_d_3', 'svd_u_d_4',\n",
       "       'svd_u_d_5', 'svd_u_d_6', 'svd_v_s_1', 'svd_v_s_2', 'svd_v_s_3',\n",
       "       'svd_v_s_4', 'svd_v_s_5', 'svd_v_s_6', 'svd_v_d_1', 'svd_v_d_2',\n",
       "       'svd_v_d_3', 'svd_v_d_4', 'svd_v_d_5', 'svd_v_d_6'],\n",
       "      dtype='object')"
      ]
     },
     "execution_count": 3,
     "metadata": {},
     "output_type": "execute_result"
    }
   ],
   "source": [
    "df_final_train.columns"
   ]
  },
  {
   "cell_type": "code",
   "execution_count": 4,
   "metadata": {
    "colab": {},
    "colab_type": "code",
    "id": "XRW7VZ4AHglc"
   },
   "outputs": [],
   "source": [
    "y_train = df_final_train.indicator_link\n",
    "y_test = df_final_test.indicator_link"
   ]
  },
  {
   "cell_type": "code",
   "execution_count": 5,
   "metadata": {
    "colab": {},
    "colab_type": "code",
    "id": "4lj9M_qtHglf"
   },
   "outputs": [],
   "source": [
    "df_final_train.drop(['source_node', 'destination_node','indicator_link'],axis=1,inplace=True)\n",
    "df_final_test.drop(['source_node', 'destination_node','indicator_link'],axis=1,inplace=True)"
   ]
  },
  {
   "cell_type": "code",
   "execution_count": 6,
   "metadata": {
    "colab": {},
    "colab_type": "code",
    "id": "lIEc91uVHgli",
    "outputId": "31f04b72-ebe5-4b13-ccca-a5ae3bc4f09c"
   },
   "outputs": [
    {
     "name": "stdout",
     "output_type": "stream",
     "text": [
      "Estimators =  10 Train Score 0.9218056522778535 test Score 0.8823414718689747\n",
      "Estimators =  50 Train Score 0.9258003453081772 test Score 0.9017996618946738\n",
      "Estimators =  100 Train Score 0.9264686001892619 test Score 0.9192036237227431\n",
      "Estimators =  250 Train Score 0.9236186855308673 test Score 0.9165666645613592\n",
      "Estimators =  450 Train Score 0.9246411731715931 test Score 0.91802933686891\n"
     ]
    },
    {
     "data": {
      "text/plain": [
       "Text(0.5, 1.0, 'Estimators vs score at depth of 5')"
      ]
     },
     "execution_count": 6,
     "metadata": {},
     "output_type": "execute_result"
    },
    {
     "data": {
      "image/png": "[encoded data removed]",
      "text/plain": [
       "<Figure size 432x288 with 1 Axes>"
      ]
     },
     "metadata": {
      "needs_background": "light"
     },
     "output_type": "display_data"
    }
   ],
   "source": [
    "estimators = [10,50,100,250,450]\n",
    "train_scores = []\n",
    "test_scores = []\n",
    "for i in estimators:\n",
    "    clf = RandomForestClassifier(bootstrap=True, class_weight=None, criterion='gini',\n",
    "            max_depth=5, max_features='auto', max_leaf_nodes=None,\n",
    "            min_impurity_decrease=0.0, min_impurity_split=None,\n",
    "            min_samples_leaf=52, min_samples_split=120,\n",
    "            min_weight_fraction_leaf=0.0, n_estimators=i, n_jobs=-1,random_state=25,verbose=0,warm_start=False)\n",
    "    clf.fit(df_final_train,y_train)\n",
    "    train_sc = f1_score(y_train,clf.predict(df_final_train))\n",
    "    test_sc = f1_score(y_test,clf.predict(df_final_test))\n",
    "    test_scores.append(test_sc)\n",
    "    train_scores.append(train_sc)\n",
    "    print('Estimators = ',i,'Train Score',train_sc,'test Score',test_sc)\n",
    "plt.plot(estimators,train_scores,label='Train Score')\n",
    "plt.plot(estimators,test_scores,label='Test Score')\n",
    "plt.xlabel('Estimators')\n",
    "plt.ylabel('Score')\n",
    "plt.title('Estimators vs score at depth of 5')"
   ]
  },
  {
   "cell_type": "code",
   "execution_count": 7,
   "metadata": {
    "colab": {},
    "colab_type": "code",
    "id": "nZxhrTdQHglm",
    "outputId": "53382b8e-148d-4c22-8066-d9807fb27012"
   },
   "outputs": [
    {
     "name": "stdout",
     "output_type": "stream",
     "text": [
      "depth =  3 Train Score 0.8914243728351001 test Score 0.8616972825261878\n",
      "depth =  9 Train Score 0.9596061907462927 test Score 0.9237098611755771\n",
      "depth =  11 Train Score 0.9609335465457562 test Score 0.9238006835154635\n",
      "depth =  15 Train Score 0.9658021249949501 test Score 0.9257374522266096\n",
      "depth =  20 Train Score 0.9664092079357867 test Score 0.9258969864633709\n",
      "depth =  35 Train Score 0.9664658452161101 test Score 0.9258790257903845\n",
      "depth =  50 Train Score 0.9664658452161101 test Score 0.9258790257903845\n",
      "depth =  70 Train Score 0.9664658452161101 test Score 0.9258790257903845\n",
      "depth =  130 Train Score 0.9664658452161101 test Score 0.9258790257903845\n"
     ]
    },
    {
     "data": {
      "image/png": "[encoded data removed]",
      "text/plain": [
       "<Figure size 432x288 with 1 Axes>"
      ]
     },
     "metadata": {
      "needs_background": "light"
     },
     "output_type": "display_data"
    }
   ],
   "source": [
    "depths = [3,9,11,15,20,35,50,70,130]\n",
    "train_scores = []\n",
    "test_scores = []\n",
    "for i in depths:\n",
    "    clf = RandomForestClassifier(bootstrap=True, class_weight=None, criterion='gini',\n",
    "            max_depth=i, max_features='auto', max_leaf_nodes=None,\n",
    "            min_impurity_decrease=0.0, min_impurity_split=None,\n",
    "            min_samples_leaf=52, min_samples_split=120,\n",
    "            min_weight_fraction_leaf=0.0, n_estimators=115, n_jobs=-1,random_state=25,verbose=0,warm_start=False)\n",
    "    clf.fit(df_final_train,y_train)\n",
    "    train_sc = f1_score(y_train,clf.predict(df_final_train))\n",
    "    test_sc = f1_score(y_test,clf.predict(df_final_test))\n",
    "    test_scores.append(test_sc)\n",
    "    train_scores.append(train_sc)\n",
    "    print('depth = ',i,'Train Score',train_sc,'test Score',test_sc)\n",
    "plt.plot(depths,train_scores,label='Train Score')\n",
    "plt.plot(depths,test_scores,label='Test Score')\n",
    "plt.xlabel('Depth')\n",
    "plt.ylabel('Score')\n",
    "plt.title('Depth vs score at depth of 5 at estimators = 115')\n",
    "plt.show()"
   ]
  },
  {
   "cell_type": "code",
   "execution_count": 8,
   "metadata": {
    "colab": {},
    "colab_type": "code",
    "id": "MrG1Lfl3Hglq",
    "outputId": "7b6e3c97-8d66-455d-cd79-213f824719cc"
   },
   "outputs": [
    {
     "name": "stdout",
     "output_type": "stream",
     "text": [
      "mean test scores [0.96368617 0.96324135 0.96129318 0.96308844 0.96541799]\n"
     ]
    }
   ],
   "source": [
    "from sklearn.metrics import f1_score\n",
    "from sklearn.ensemble import RandomForestClassifier\n",
    "from sklearn.metrics import f1_score\n",
    "from sklearn.model_selection import RandomizedSearchCV\n",
    "from scipy.stats import randint as sp_randint\n",
    "from scipy.stats import uniform\n",
    "\n",
    "param_dist = {\"n_estimators\":sp_randint(105,125),\n",
    "              \"max_depth\": sp_randint(10,15),\n",
    "              \"min_samples_split\": sp_randint(110,190),\n",
    "              \"min_samples_leaf\": sp_randint(25,65)}\n",
    "\n",
    "clf = RandomForestClassifier(random_state=25,n_jobs=-1)\n",
    "\n",
    "rf_random = RandomizedSearchCV(clf, param_distributions=param_dist,\n",
    "                                   n_iter=5,cv=10,scoring='f1',random_state=25)\n",
    "\n",
    "rf_random.fit(df_final_train,y_train)\n",
    "print('mean test scores',rf_random.cv_results_['mean_test_score'])\n",
    "# print('mean train scores',rf_random.cv_results_['mean_train_score'])"
   ]
  },
  {
   "cell_type": "code",
   "execution_count": 9,
   "metadata": {
    "colab": {},
    "colab_type": "code",
    "id": "hme3j_diHglu",
    "outputId": "581ccc02-7770-4a94-d003-257af4e81570"
   },
   "outputs": [
    {
     "name": "stdout",
     "output_type": "stream",
     "text": [
      "RandomForestClassifier(bootstrap=True, class_weight=None, criterion='gini',\n",
      "                       max_depth=14, max_features='auto', max_leaf_nodes=None,\n",
      "                       min_impurity_decrease=0.0, min_impurity_split=None,\n",
      "                       min_samples_leaf=28, min_samples_split=111,\n",
      "                       min_weight_fraction_leaf=0.0, n_estimators=121,\n",
      "                       n_jobs=-1, oob_score=False, random_state=25, verbose=0,\n",
      "                       warm_start=False)\n"
     ]
    }
   ],
   "source": [
    "print(rf_random.best_estimator_)"
   ]
  },
  {
   "cell_type": "code",
   "execution_count": 10,
   "metadata": {
    "colab": {},
    "colab_type": "code",
    "id": "qu4KIEweHglx"
   },
   "outputs": [],
   "source": [
    "clf = RandomForestClassifier(bootstrap=True, class_weight=None, criterion='gini',\n",
    "            max_depth=14, max_features='auto', max_leaf_nodes=None,\n",
    "            min_impurity_decrease=0.0, min_impurity_split=None,\n",
    "            min_samples_leaf=28, min_samples_split=111,\n",
    "            min_weight_fraction_leaf=0.0, n_estimators=121, n_jobs=-1,\n",
    "            oob_score=False, random_state=25, verbose=0, warm_start=False)"
   ]
  },
  {
   "cell_type": "code",
   "execution_count": 11,
   "metadata": {
    "colab": {},
    "colab_type": "code",
    "id": "Dax83GfLHgl1"
   },
   "outputs": [],
   "source": [
    "clf.fit(df_final_train,y_train)\n",
    "y_train_pred = clf.predict(df_final_train)\n",
    "y_test_pred = clf.predict(df_final_test)"
   ]
  },
  {
   "cell_type": "code",
   "execution_count": 12,
   "metadata": {
    "colab": {},
    "colab_type": "code",
    "id": "PTtAp1iTHgl4",
    "outputId": "e2e3d725-3c4d-4374-d303-8f294b570977"
   },
   "outputs": [
    {
     "name": "stdout",
     "output_type": "stream",
     "text": [
      "Train f1 score 0.967626805932229\n",
      "Test f1 score 0.9264445381695486\n"
     ]
    }
   ],
   "source": [
    "from sklearn.metrics import f1_score\n",
    "print('Train f1 score',f1_score(y_train,y_train_pred))\n",
    "print('Test f1 score',f1_score(y_test,y_test_pred))"
   ]
  },
  {
   "cell_type": "code",
   "execution_count": 13,
   "metadata": {
    "colab": {},
    "colab_type": "code",
    "id": "5XfUkZYQHgl7"
   },
   "outputs": [],
   "source": [
    "from sklearn.metrics import confusion_matrix\n",
    "def plot_confusion_matrix(test_y, predict_y):\n",
    "    C = confusion_matrix(test_y, predict_y)\n",
    "    \n",
    "    A =(((C.T)/(C.sum(axis=1))).T)\n",
    "    \n",
    "    B =(C/C.sum(axis=0))\n",
    "    plt.figure(figsize=(20,4))\n",
    "    \n",
    "    labels = [0,1]\n",
    "    # representing A in heatmap format\n",
    "    cmap=sns.light_palette(\"blue\")\n",
    "    plt.subplot(1, 3, 1)\n",
    "    sns.heatmap(C, annot=True, cmap=cmap, fmt=\".3f\", xticklabels=labels, yticklabels=labels)\n",
    "    plt.xlabel('Predicted Class')\n",
    "    plt.ylabel('Original Class')\n",
    "    plt.title(\"Confusion matrix\")\n",
    "    \n",
    "    plt.subplot(1, 3, 2)\n",
    "    sns.heatmap(B, annot=True, cmap=cmap, fmt=\".3f\", xticklabels=labels, yticklabels=labels)\n",
    "    plt.xlabel('Predicted Class')\n",
    "    plt.ylabel('Original Class')\n",
    "    plt.title(\"Precision matrix\")\n",
    "    \n",
    "    plt.subplot(1, 3, 3)\n",
    "    # representing B in heatmap format\n",
    "    sns.heatmap(A, annot=True, cmap=cmap, fmt=\".3f\", xticklabels=labels, yticklabels=labels)\n",
    "    plt.xlabel('Predicted Class')\n",
    "    plt.ylabel('Original Class')\n",
    "    plt.title(\"Recall matrix\")\n",
    "    \n",
    "    plt.show()"
   ]
  },
  {
   "cell_type": "code",
   "execution_count": 14,
   "metadata": {
    "colab": {},
    "colab_type": "code",
    "id": "s6t11dhTHgl-",
    "outputId": "189de3be-1c99-4653-f56f-12b18b0f4db7"
   },
   "outputs": [
    {
     "name": "stdout",
     "output_type": "stream",
     "text": [
      "Train confusion_matrix\n"
     ]
    },
    {
     "data": {
      "image/png": "[encoded data removed]",
      "text/plain": [
       "<Figure size 1440x288 with 6 Axes>"
      ]
     },
     "metadata": {
      "needs_background": "light"
     },
     "output_type": "display_data"
    },
    {
     "name": "stdout",
     "output_type": "stream",
     "text": [
      "Test confusion_matrix\n"
     ]
    },
    {
     "data": {
      "image/png": "[encoded data removed]",
      "text/plain": [
       "<Figure size 1440x288 with 6 Axes>"
      ]
     },
     "metadata": {
      "needs_background": "light"
     },
     "output_type": "display_data"
    }
   ],
   "source": [
    "print('Train confusion_matrix')\n",
    "plot_confusion_matrix(y_train,y_train_pred)\n",
    "print('Test confusion_matrix')\n",
    "plot_confusion_matrix(y_test,y_test_pred)"
   ]
  },
  {
   "cell_type": "code",
   "execution_count": 15,
   "metadata": {
    "colab": {},
    "colab_type": "code",
    "id": "61TF-VLeHgmD",
    "outputId": "795f1b39-61c7-470f-e2d0-1fe6dc7ac5fd"
   },
   "outputs": [
    {
     "data": {
      "image/png": "[encoded data removed]",
      "text/plain": [
       "<Figure size 432x288 with 1 Axes>"
      ]
     },
     "metadata": {
      "needs_background": "light"
     },
     "output_type": "display_data"
    }
   ],
   "source": [
    "from sklearn.metrics import roc_curve, auc\n",
    "fpr,tpr,ths = roc_curve(y_test,y_test_pred)\n",
    "auc_sc = auc(fpr, tpr)\n",
    "plt.plot(fpr, tpr, color='navy',label='ROC curve (area = %0.2f)' % auc_sc)\n",
    "plt.xlabel('False Positive Rate')\n",
    "plt.ylabel('True Positive Rate')\n",
    "plt.title('Receiver operating characteristic with test data')\n",
    "plt.legend()\n",
    "plt.show()"
   ]
  },
  {
   "cell_type": "code",
   "execution_count": 16,
   "metadata": {
    "colab": {},
    "colab_type": "code",
    "id": "HEZ7uvN6HgmK",
    "outputId": "6f762256-54fc-4e2f-865b-22342033eb2c",
    "scrolled": false
   },
   "outputs": [
    {
     "data": {
      "image/png": "[encoded data removed]",
      "text/plain": [
       "<Figure size 720x864 with 1 Axes>"
      ]
     },
     "metadata": {
      "needs_background": "light"
     },
     "output_type": "display_data"
    }
   ],
   "source": [
    "features = df_final_train.columns\n",
    "importances = clf.feature_importances_\n",
    "indices = (np.argsort(importances))[-25:]\n",
    "plt.figure(figsize=(10,12))\n",
    "plt.title('Feature Importances')\n",
    "plt.barh(range(len(indices)), importances[indices], color='r', align='center')\n",
    "plt.yticks(range(len(indices)), [features[i] for i in indices])\n",
    "plt.xlabel('Relative Importance')\n",
    "plt.show()"
   ]
  },
  {
   "cell_type": "markdown",
   "metadata": {
    "colab_type": "text",
    "id": "xdHW32hcHgmN"
   },
   "source": [
    "# Assignments:\n",
    "\n",
    "1. Add another feature called  Preferential Attachment  with followers and followees data of vertex. you can check about Preferential Attachment in below link\n",
    "http://be.amazd.com/link-prediction/ <br>\n",
    "2. Add  feature called svd_dot. you can calculate svd_dot as Dot product between sourse node svd and destination node svd features.  you can read about this in below pdf \n",
    "https://storage.googleapis.com/kaggle-forum-message-attachments/2594/supervised_link_prediction.pdf<br>\n",
    "3. Tune hyperparameters for XG boost with all these features and check the error metric."
   ]
  },
  {
   "cell_type": "markdown",
   "metadata": {},
   "source": [
    "# Part 1 & part 2 is completed in featurization section so start working on part 3"
   ]
  },
  {
   "cell_type": "code",
   "execution_count": 28,
   "metadata": {},
   "outputs": [],
   "source": [
    "#reading\n",
    "from pandas import read_hdf\n",
    "df_final_train = read_hdf('data/fea_sample/storage_sample_stage6.h5', 'train_df',mode='r')\n",
    "df_final_test = read_hdf('data/fea_sample/storage_sample_stage6.h5', 'test_df',mode='r')"
   ]
  },
  {
   "cell_type": "code",
   "execution_count": 29,
   "metadata": {},
   "outputs": [
    {
     "data": {
      "text/plain": [
       "Index(['source_node', 'destination_node', 'indicator_link',\n",
       "       'jaccard_followers', 'jaccard_followees', 'cosine_followers',\n",
       "       'cosine_followees', 'num_followers_s', 'num_followers_d',\n",
       "       'num_followees_s', 'num_followees_d', 'inter_followers',\n",
       "       'inter_followees', 'adar_index', 'follows_back', 'same_comp',\n",
       "       'shortest_path', 'weight_in', 'weight_out', 'weight_f1', 'weight_f2',\n",
       "       'weight_f3', 'weight_f4', 'page_rank_s', 'page_rank_d', 'katz_s',\n",
       "       'katz_d', 'hubs_s', 'hubs_d', 'authorities_s', 'authorities_d',\n",
       "       'svd_u_s_1', 'svd_u_s_2', 'svd_u_s_3', 'svd_u_s_4', 'svd_u_s_5',\n",
       "       'svd_u_s_6', 'svd_u_d_1', 'svd_u_d_2', 'svd_u_d_3', 'svd_u_d_4',\n",
       "       'svd_u_d_5', 'svd_u_d_6', 'svd_v_s_1', 'svd_v_s_2', 'svd_v_s_3',\n",
       "       'svd_v_s_4', 'svd_v_s_5', 'svd_v_s_6', 'svd_v_d_1', 'svd_v_d_2',\n",
       "       'svd_v_d_3', 'svd_v_d_4', 'svd_v_d_5', 'svd_v_d_6',\n",
       "       'preferential_attachment_followees',\n",
       "       'preferential_attachment_followers', 'svd_dot_product'],\n",
       "      dtype='object')"
      ]
     },
     "execution_count": 29,
     "metadata": {},
     "output_type": "execute_result"
    }
   ],
   "source": [
    "df_final_train.columns"
   ]
  },
  {
   "cell_type": "code",
   "execution_count": 30,
   "metadata": {},
   "outputs": [
    {
     "data": {
      "text/html": [
       "<div>\n",
       "<style scoped>\n",
       "    .dataframe tbody tr th:only-of-type {\n",
       "        vertical-align: middle;\n",
       "    }\n",
       "\n",
       "    .dataframe tbody tr th {\n",
       "        vertical-align: top;\n",
       "    }\n",
       "\n",
       "    .dataframe thead th {\n",
       "        text-align: right;\n",
       "    }\n",
       "</style>\n",
       "<table border=\"1\" class=\"dataframe\">\n",
       "  <thead>\n",
       "    <tr style=\"text-align: right;\">\n",
       "      <th></th>\n",
       "      <th>source_node</th>\n",
       "      <th>destination_node</th>\n",
       "      <th>indicator_link</th>\n",
       "      <th>jaccard_followers</th>\n",
       "      <th>jaccard_followees</th>\n",
       "      <th>cosine_followers</th>\n",
       "      <th>cosine_followees</th>\n",
       "      <th>num_followers_s</th>\n",
       "      <th>num_followers_d</th>\n",
       "      <th>num_followees_s</th>\n",
       "      <th>...</th>\n",
       "      <th>svd_v_s_6</th>\n",
       "      <th>svd_v_d_1</th>\n",
       "      <th>svd_v_d_2</th>\n",
       "      <th>svd_v_d_3</th>\n",
       "      <th>svd_v_d_4</th>\n",
       "      <th>svd_v_d_5</th>\n",
       "      <th>svd_v_d_6</th>\n",
       "      <th>preferential_attachment_followees</th>\n",
       "      <th>preferential_attachment_followers</th>\n",
       "      <th>svd_dot_product</th>\n",
       "    </tr>\n",
       "  </thead>\n",
       "  <tbody>\n",
       "    <tr>\n",
       "      <th>0</th>\n",
       "      <td>273084</td>\n",
       "      <td>1505602</td>\n",
       "      <td>1</td>\n",
       "      <td>0</td>\n",
       "      <td>0.000000</td>\n",
       "      <td>0.000000</td>\n",
       "      <td>0.000000</td>\n",
       "      <td>11</td>\n",
       "      <td>6</td>\n",
       "      <td>15</td>\n",
       "      <td>...</td>\n",
       "      <td>1.719703e-14</td>\n",
       "      <td>-1.355368e-12</td>\n",
       "      <td>4.675302e-13</td>\n",
       "      <td>1.128589e-06</td>\n",
       "      <td>6.616669e-14</td>\n",
       "      <td>9.771059e-13</td>\n",
       "      <td>4.160011e-14</td>\n",
       "      <td>120</td>\n",
       "      <td>66</td>\n",
       "      <td>1.338835e-11</td>\n",
       "    </tr>\n",
       "    <tr>\n",
       "      <th>1</th>\n",
       "      <td>1092078</td>\n",
       "      <td>1019460</td>\n",
       "      <td>1</td>\n",
       "      <td>0</td>\n",
       "      <td>0.000000</td>\n",
       "      <td>0.142857</td>\n",
       "      <td>0.000000</td>\n",
       "      <td>4</td>\n",
       "      <td>7</td>\n",
       "      <td>7</td>\n",
       "      <td>...</td>\n",
       "      <td>1.347584e-14</td>\n",
       "      <td>-1.240513e-12</td>\n",
       "      <td>4.237680e-13</td>\n",
       "      <td>1.125696e-09</td>\n",
       "      <td>1.917101e-12</td>\n",
       "      <td>1.483785e-12</td>\n",
       "      <td>2.649401e-12</td>\n",
       "      <td>0</td>\n",
       "      <td>28</td>\n",
       "      <td>2.384645e-20</td>\n",
       "    </tr>\n",
       "    <tr>\n",
       "      <th>2</th>\n",
       "      <td>1430596</td>\n",
       "      <td>400599</td>\n",
       "      <td>1</td>\n",
       "      <td>0</td>\n",
       "      <td>0.098039</td>\n",
       "      <td>0.051948</td>\n",
       "      <td>0.233126</td>\n",
       "      <td>49</td>\n",
       "      <td>11</td>\n",
       "      <td>46</td>\n",
       "      <td>...</td>\n",
       "      <td>7.171148e-15</td>\n",
       "      <td>-4.091095e-13</td>\n",
       "      <td>4.076675e-14</td>\n",
       "      <td>2.783363e-12</td>\n",
       "      <td>4.809181e-13</td>\n",
       "      <td>9.748510e-14</td>\n",
       "      <td>1.847969e-16</td>\n",
       "      <td>460</td>\n",
       "      <td>539</td>\n",
       "      <td>1.252459e-21</td>\n",
       "    </tr>\n",
       "    <tr>\n",
       "      <th>3</th>\n",
       "      <td>1013979</td>\n",
       "      <td>1628559</td>\n",
       "      <td>1</td>\n",
       "      <td>0</td>\n",
       "      <td>0.333333</td>\n",
       "      <td>0.229081</td>\n",
       "      <td>0.524142</td>\n",
       "      <td>14</td>\n",
       "      <td>7</td>\n",
       "      <td>13</td>\n",
       "      <td>...</td>\n",
       "      <td>1.597539e-18</td>\n",
       "      <td>-1.903970e-16</td>\n",
       "      <td>4.652690e-16</td>\n",
       "      <td>4.073271e-15</td>\n",
       "      <td>8.574630e-17</td>\n",
       "      <td>1.387813e-15</td>\n",
       "      <td>7.993854e-19</td>\n",
       "      <td>91</td>\n",
       "      <td>98</td>\n",
       "      <td>2.609823e-28</td>\n",
       "    </tr>\n",
       "    <tr>\n",
       "      <th>4</th>\n",
       "      <td>197515</td>\n",
       "      <td>805550</td>\n",
       "      <td>1</td>\n",
       "      <td>0</td>\n",
       "      <td>0.000000</td>\n",
       "      <td>0.161985</td>\n",
       "      <td>0.000000</td>\n",
       "      <td>7</td>\n",
       "      <td>7</td>\n",
       "      <td>12</td>\n",
       "      <td>...</td>\n",
       "      <td>6.503282e-19</td>\n",
       "      <td>-4.760155e-19</td>\n",
       "      <td>2.910335e-16</td>\n",
       "      <td>1.515485e-15</td>\n",
       "      <td>1.854415e-18</td>\n",
       "      <td>3.395863e-18</td>\n",
       "      <td>3.250485e-19</td>\n",
       "      <td>0</td>\n",
       "      <td>49</td>\n",
       "      <td>3.974762e-30</td>\n",
       "    </tr>\n",
       "  </tbody>\n",
       "</table>\n",
       "<p>5 rows × 58 columns</p>\n",
       "</div>"
      ],
      "text/plain": [
       "   source_node  destination_node  indicator_link  jaccard_followers  \\\n",
       "0       273084           1505602               1                  0   \n",
       "1      1092078           1019460               1                  0   \n",
       "2      1430596            400599               1                  0   \n",
       "3      1013979           1628559               1                  0   \n",
       "4       197515            805550               1                  0   \n",
       "\n",
       "   jaccard_followees  cosine_followers  cosine_followees  num_followers_s  \\\n",
       "0           0.000000          0.000000          0.000000               11   \n",
       "1           0.000000          0.142857          0.000000                4   \n",
       "2           0.098039          0.051948          0.233126               49   \n",
       "3           0.333333          0.229081          0.524142               14   \n",
       "4           0.000000          0.161985          0.000000                7   \n",
       "\n",
       "   num_followers_d  num_followees_s  ...     svd_v_s_6     svd_v_d_1  \\\n",
       "0                6               15  ...  1.719703e-14 -1.355368e-12   \n",
       "1                7                7  ...  1.347584e-14 -1.240513e-12   \n",
       "2               11               46  ...  7.171148e-15 -4.091095e-13   \n",
       "3                7               13  ...  1.597539e-18 -1.903970e-16   \n",
       "4                7               12  ...  6.503282e-19 -4.760155e-19   \n",
       "\n",
       "      svd_v_d_2     svd_v_d_3     svd_v_d_4     svd_v_d_5     svd_v_d_6  \\\n",
       "0  4.675302e-13  1.128589e-06  6.616669e-14  9.771059e-13  4.160011e-14   \n",
       "1  4.237680e-13  1.125696e-09  1.917101e-12  1.483785e-12  2.649401e-12   \n",
       "2  4.076675e-14  2.783363e-12  4.809181e-13  9.748510e-14  1.847969e-16   \n",
       "3  4.652690e-16  4.073271e-15  8.574630e-17  1.387813e-15  7.993854e-19   \n",
       "4  2.910335e-16  1.515485e-15  1.854415e-18  3.395863e-18  3.250485e-19   \n",
       "\n",
       "   preferential_attachment_followees  preferential_attachment_followers  \\\n",
       "0                                120                                 66   \n",
       "1                                  0                                 28   \n",
       "2                                460                                539   \n",
       "3                                 91                                 98   \n",
       "4                                  0                                 49   \n",
       "\n",
       "   svd_dot_product  \n",
       "0     1.338835e-11  \n",
       "1     2.384645e-20  \n",
       "2     1.252459e-21  \n",
       "3     2.609823e-28  \n",
       "4     3.974762e-30  \n",
       "\n",
       "[5 rows x 58 columns]"
      ]
     },
     "execution_count": 30,
     "metadata": {},
     "output_type": "execute_result"
    }
   ],
   "source": [
    "df_final_train.head()"
   ]
  },
  {
   "cell_type": "code",
   "execution_count": 31,
   "metadata": {},
   "outputs": [
    {
     "data": {
      "text/html": [
       "<div>\n",
       "<style scoped>\n",
       "    .dataframe tbody tr th:only-of-type {\n",
       "        vertical-align: middle;\n",
       "    }\n",
       "\n",
       "    .dataframe tbody tr th {\n",
       "        vertical-align: top;\n",
       "    }\n",
       "\n",
       "    .dataframe thead th {\n",
       "        text-align: right;\n",
       "    }\n",
       "</style>\n",
       "<table border=\"1\" class=\"dataframe\">\n",
       "  <thead>\n",
       "    <tr style=\"text-align: right;\">\n",
       "      <th></th>\n",
       "      <th>source_node</th>\n",
       "      <th>destination_node</th>\n",
       "      <th>indicator_link</th>\n",
       "      <th>jaccard_followers</th>\n",
       "      <th>jaccard_followees</th>\n",
       "      <th>cosine_followers</th>\n",
       "      <th>cosine_followees</th>\n",
       "      <th>num_followers_s</th>\n",
       "      <th>num_followers_d</th>\n",
       "      <th>num_followees_s</th>\n",
       "      <th>...</th>\n",
       "      <th>svd_v_s_6</th>\n",
       "      <th>svd_v_d_1</th>\n",
       "      <th>svd_v_d_2</th>\n",
       "      <th>svd_v_d_3</th>\n",
       "      <th>svd_v_d_4</th>\n",
       "      <th>svd_v_d_5</th>\n",
       "      <th>svd_v_d_6</th>\n",
       "      <th>preferential_attachment_followees</th>\n",
       "      <th>preferential_attachment_followers</th>\n",
       "      <th>svd_dot_product</th>\n",
       "    </tr>\n",
       "  </thead>\n",
       "  <tbody>\n",
       "    <tr>\n",
       "      <th>0</th>\n",
       "      <td>848424</td>\n",
       "      <td>784690</td>\n",
       "      <td>1</td>\n",
       "      <td>0</td>\n",
       "      <td>0.000000</td>\n",
       "      <td>0.029161</td>\n",
       "      <td>0.000000</td>\n",
       "      <td>6</td>\n",
       "      <td>14</td>\n",
       "      <td>6</td>\n",
       "      <td>...</td>\n",
       "      <td>5.535489e-14</td>\n",
       "      <td>-9.994074e-10</td>\n",
       "      <td>5.791890e-10</td>\n",
       "      <td>3.512358e-07</td>\n",
       "      <td>2.486659e-09</td>\n",
       "      <td>2.771126e-09</td>\n",
       "      <td>1.727685e-12</td>\n",
       "      <td>54</td>\n",
       "      <td>84</td>\n",
       "      <td>2.083237e-17</td>\n",
       "    </tr>\n",
       "    <tr>\n",
       "      <th>1</th>\n",
       "      <td>182360</td>\n",
       "      <td>205736</td>\n",
       "      <td>1</td>\n",
       "      <td>0</td>\n",
       "      <td>0.187500</td>\n",
       "      <td>0.157485</td>\n",
       "      <td>0.358569</td>\n",
       "      <td>7</td>\n",
       "      <td>12</td>\n",
       "      <td>5</td>\n",
       "      <td>...</td>\n",
       "      <td>1.262255e-18</td>\n",
       "      <td>-1.152091e-16</td>\n",
       "      <td>1.421397e-11</td>\n",
       "      <td>8.108408e-15</td>\n",
       "      <td>5.273874e-16</td>\n",
       "      <td>1.418345e-13</td>\n",
       "      <td>1.925426e-18</td>\n",
       "      <td>70</td>\n",
       "      <td>84</td>\n",
       "      <td>3.215717e-22</td>\n",
       "    </tr>\n",
       "    <tr>\n",
       "      <th>2</th>\n",
       "      <td>120585</td>\n",
       "      <td>539098</td>\n",
       "      <td>1</td>\n",
       "      <td>0</td>\n",
       "      <td>0.000000</td>\n",
       "      <td>0.051805</td>\n",
       "      <td>0.000000</td>\n",
       "      <td>73</td>\n",
       "      <td>122</td>\n",
       "      <td>28</td>\n",
       "      <td>...</td>\n",
       "      <td>2.106447e-06</td>\n",
       "      <td>-1.208154e-12</td>\n",
       "      <td>2.721133e-14</td>\n",
       "      <td>1.976924e-12</td>\n",
       "      <td>-1.766527e-11</td>\n",
       "      <td>2.396330e-13</td>\n",
       "      <td>8.069914e-05</td>\n",
       "      <td>0</td>\n",
       "      <td>8906</td>\n",
       "      <td>1.699884e-10</td>\n",
       "    </tr>\n",
       "    <tr>\n",
       "      <th>3</th>\n",
       "      <td>1286685</td>\n",
       "      <td>1751018</td>\n",
       "      <td>1</td>\n",
       "      <td>0</td>\n",
       "      <td>0.021739</td>\n",
       "      <td>0.000000</td>\n",
       "      <td>0.050252</td>\n",
       "      <td>43</td>\n",
       "      <td>11</td>\n",
       "      <td>36</td>\n",
       "      <td>...</td>\n",
       "      <td>2.050646e-14</td>\n",
       "      <td>-2.334162e-12</td>\n",
       "      <td>5.258642e-10</td>\n",
       "      <td>1.389547e-10</td>\n",
       "      <td>7.992433e-10</td>\n",
       "      <td>1.078892e-09</td>\n",
       "      <td>2.588075e-13</td>\n",
       "      <td>396</td>\n",
       "      <td>473</td>\n",
       "      <td>6.821693e-19</td>\n",
       "    </tr>\n",
       "    <tr>\n",
       "      <th>4</th>\n",
       "      <td>1284877</td>\n",
       "      <td>979430</td>\n",
       "      <td>1</td>\n",
       "      <td>0</td>\n",
       "      <td>0.000000</td>\n",
       "      <td>0.000000</td>\n",
       "      <td>0.000000</td>\n",
       "      <td>1</td>\n",
       "      <td>6</td>\n",
       "      <td>0</td>\n",
       "      <td>...</td>\n",
       "      <td>0.000000e+00</td>\n",
       "      <td>-1.949308e-13</td>\n",
       "      <td>1.340613e-14</td>\n",
       "      <td>1.431608e-13</td>\n",
       "      <td>1.773713e-14</td>\n",
       "      <td>1.016923e-13</td>\n",
       "      <td>4.527517e-15</td>\n",
       "      <td>0</td>\n",
       "      <td>6</td>\n",
       "      <td>-1.575727e-30</td>\n",
       "    </tr>\n",
       "  </tbody>\n",
       "</table>\n",
       "<p>5 rows × 58 columns</p>\n",
       "</div>"
      ],
      "text/plain": [
       "   source_node  destination_node  indicator_link  jaccard_followers  \\\n",
       "0       848424            784690               1                  0   \n",
       "1       182360            205736               1                  0   \n",
       "2       120585            539098               1                  0   \n",
       "3      1286685           1751018               1                  0   \n",
       "4      1284877            979430               1                  0   \n",
       "\n",
       "   jaccard_followees  cosine_followers  cosine_followees  num_followers_s  \\\n",
       "0           0.000000          0.029161          0.000000                6   \n",
       "1           0.187500          0.157485          0.358569                7   \n",
       "2           0.000000          0.051805          0.000000               73   \n",
       "3           0.021739          0.000000          0.050252               43   \n",
       "4           0.000000          0.000000          0.000000                1   \n",
       "\n",
       "   num_followers_d  num_followees_s  ...     svd_v_s_6     svd_v_d_1  \\\n",
       "0               14                6  ...  5.535489e-14 -9.994074e-10   \n",
       "1               12                5  ...  1.262255e-18 -1.152091e-16   \n",
       "2              122               28  ...  2.106447e-06 -1.208154e-12   \n",
       "3               11               36  ...  2.050646e-14 -2.334162e-12   \n",
       "4                6                0  ...  0.000000e+00 -1.949308e-13   \n",
       "\n",
       "      svd_v_d_2     svd_v_d_3     svd_v_d_4     svd_v_d_5     svd_v_d_6  \\\n",
       "0  5.791890e-10  3.512358e-07  2.486659e-09  2.771126e-09  1.727685e-12   \n",
       "1  1.421397e-11  8.108408e-15  5.273874e-16  1.418345e-13  1.925426e-18   \n",
       "2  2.721133e-14  1.976924e-12 -1.766527e-11  2.396330e-13  8.069914e-05   \n",
       "3  5.258642e-10  1.389547e-10  7.992433e-10  1.078892e-09  2.588075e-13   \n",
       "4  1.340613e-14  1.431608e-13  1.773713e-14  1.016923e-13  4.527517e-15   \n",
       "\n",
       "   preferential_attachment_followees  preferential_attachment_followers  \\\n",
       "0                                 54                                 84   \n",
       "1                                 70                                 84   \n",
       "2                                  0                               8906   \n",
       "3                                396                                473   \n",
       "4                                  0                                  6   \n",
       "\n",
       "   svd_dot_product  \n",
       "0     2.083237e-17  \n",
       "1     3.215717e-22  \n",
       "2     1.699884e-10  \n",
       "3     6.821693e-19  \n",
       "4    -1.575727e-30  \n",
       "\n",
       "[5 rows x 58 columns]"
      ]
     },
     "execution_count": 31,
     "metadata": {},
     "output_type": "execute_result"
    }
   ],
   "source": [
    "df_final_test.head()"
   ]
  },
  {
   "cell_type": "code",
   "execution_count": 32,
   "metadata": {},
   "outputs": [],
   "source": [
    "y_train = df_final_train.indicator_link\n",
    "y_test = df_final_test.indicator_link"
   ]
  },
  {
   "cell_type": "code",
   "execution_count": 33,
   "metadata": {},
   "outputs": [],
   "source": [
    "df_final_train.drop(['source_node', 'destination_node','indicator_link'],axis=1,inplace=True)\n",
    "df_final_test.drop(['source_node', 'destination_node','indicator_link'],axis=1,inplace=True)"
   ]
  },
  {
   "cell_type": "code",
   "execution_count": 34,
   "metadata": {},
   "outputs": [
    {
     "data": {
      "text/html": [
       "<div>\n",
       "<style scoped>\n",
       "    .dataframe tbody tr th:only-of-type {\n",
       "        vertical-align: middle;\n",
       "    }\n",
       "\n",
       "    .dataframe tbody tr th {\n",
       "        vertical-align: top;\n",
       "    }\n",
       "\n",
       "    .dataframe thead th {\n",
       "        text-align: right;\n",
       "    }\n",
       "</style>\n",
       "<table border=\"1\" class=\"dataframe\">\n",
       "  <thead>\n",
       "    <tr style=\"text-align: right;\">\n",
       "      <th></th>\n",
       "      <th>jaccard_followers</th>\n",
       "      <th>jaccard_followees</th>\n",
       "      <th>cosine_followers</th>\n",
       "      <th>cosine_followees</th>\n",
       "      <th>num_followers_s</th>\n",
       "      <th>num_followers_d</th>\n",
       "      <th>num_followees_s</th>\n",
       "      <th>num_followees_d</th>\n",
       "      <th>inter_followers</th>\n",
       "      <th>inter_followees</th>\n",
       "      <th>...</th>\n",
       "      <th>svd_v_s_6</th>\n",
       "      <th>svd_v_d_1</th>\n",
       "      <th>svd_v_d_2</th>\n",
       "      <th>svd_v_d_3</th>\n",
       "      <th>svd_v_d_4</th>\n",
       "      <th>svd_v_d_5</th>\n",
       "      <th>svd_v_d_6</th>\n",
       "      <th>preferential_attachment_followees</th>\n",
       "      <th>preferential_attachment_followers</th>\n",
       "      <th>svd_dot_product</th>\n",
       "    </tr>\n",
       "  </thead>\n",
       "  <tbody>\n",
       "    <tr>\n",
       "      <th>0</th>\n",
       "      <td>0</td>\n",
       "      <td>0.000000</td>\n",
       "      <td>0.000000</td>\n",
       "      <td>0.000000</td>\n",
       "      <td>11</td>\n",
       "      <td>6</td>\n",
       "      <td>15</td>\n",
       "      <td>8</td>\n",
       "      <td>0</td>\n",
       "      <td>0</td>\n",
       "      <td>...</td>\n",
       "      <td>1.719703e-14</td>\n",
       "      <td>-1.355368e-12</td>\n",
       "      <td>4.675302e-13</td>\n",
       "      <td>1.128589e-06</td>\n",
       "      <td>6.616669e-14</td>\n",
       "      <td>9.771059e-13</td>\n",
       "      <td>4.160011e-14</td>\n",
       "      <td>120</td>\n",
       "      <td>66</td>\n",
       "      <td>1.338835e-11</td>\n",
       "    </tr>\n",
       "    <tr>\n",
       "      <th>1</th>\n",
       "      <td>0</td>\n",
       "      <td>0.000000</td>\n",
       "      <td>0.142857</td>\n",
       "      <td>0.000000</td>\n",
       "      <td>4</td>\n",
       "      <td>7</td>\n",
       "      <td>7</td>\n",
       "      <td>0</td>\n",
       "      <td>2</td>\n",
       "      <td>0</td>\n",
       "      <td>...</td>\n",
       "      <td>1.347584e-14</td>\n",
       "      <td>-1.240513e-12</td>\n",
       "      <td>4.237680e-13</td>\n",
       "      <td>1.125696e-09</td>\n",
       "      <td>1.917101e-12</td>\n",
       "      <td>1.483785e-12</td>\n",
       "      <td>2.649401e-12</td>\n",
       "      <td>0</td>\n",
       "      <td>28</td>\n",
       "      <td>2.384645e-20</td>\n",
       "    </tr>\n",
       "    <tr>\n",
       "      <th>2</th>\n",
       "      <td>0</td>\n",
       "      <td>0.098039</td>\n",
       "      <td>0.051948</td>\n",
       "      <td>0.233126</td>\n",
       "      <td>49</td>\n",
       "      <td>11</td>\n",
       "      <td>46</td>\n",
       "      <td>10</td>\n",
       "      <td>4</td>\n",
       "      <td>5</td>\n",
       "      <td>...</td>\n",
       "      <td>7.171148e-15</td>\n",
       "      <td>-4.091095e-13</td>\n",
       "      <td>4.076675e-14</td>\n",
       "      <td>2.783363e-12</td>\n",
       "      <td>4.809181e-13</td>\n",
       "      <td>9.748510e-14</td>\n",
       "      <td>1.847969e-16</td>\n",
       "      <td>460</td>\n",
       "      <td>539</td>\n",
       "      <td>1.252459e-21</td>\n",
       "    </tr>\n",
       "    <tr>\n",
       "      <th>3</th>\n",
       "      <td>0</td>\n",
       "      <td>0.333333</td>\n",
       "      <td>0.229081</td>\n",
       "      <td>0.524142</td>\n",
       "      <td>14</td>\n",
       "      <td>7</td>\n",
       "      <td>13</td>\n",
       "      <td>7</td>\n",
       "      <td>6</td>\n",
       "      <td>5</td>\n",
       "      <td>...</td>\n",
       "      <td>1.597539e-18</td>\n",
       "      <td>-1.903970e-16</td>\n",
       "      <td>4.652690e-16</td>\n",
       "      <td>4.073271e-15</td>\n",
       "      <td>8.574630e-17</td>\n",
       "      <td>1.387813e-15</td>\n",
       "      <td>7.993854e-19</td>\n",
       "      <td>91</td>\n",
       "      <td>98</td>\n",
       "      <td>2.609823e-28</td>\n",
       "    </tr>\n",
       "    <tr>\n",
       "      <th>4</th>\n",
       "      <td>0</td>\n",
       "      <td>0.000000</td>\n",
       "      <td>0.161985</td>\n",
       "      <td>0.000000</td>\n",
       "      <td>7</td>\n",
       "      <td>7</td>\n",
       "      <td>12</td>\n",
       "      <td>0</td>\n",
       "      <td>3</td>\n",
       "      <td>0</td>\n",
       "      <td>...</td>\n",
       "      <td>6.503282e-19</td>\n",
       "      <td>-4.760155e-19</td>\n",
       "      <td>2.910335e-16</td>\n",
       "      <td>1.515485e-15</td>\n",
       "      <td>1.854415e-18</td>\n",
       "      <td>3.395863e-18</td>\n",
       "      <td>3.250485e-19</td>\n",
       "      <td>0</td>\n",
       "      <td>49</td>\n",
       "      <td>3.974762e-30</td>\n",
       "    </tr>\n",
       "  </tbody>\n",
       "</table>\n",
       "<p>5 rows × 55 columns</p>\n",
       "</div>"
      ],
      "text/plain": [
       "   jaccard_followers  jaccard_followees  cosine_followers  cosine_followees  \\\n",
       "0                  0           0.000000          0.000000          0.000000   \n",
       "1                  0           0.000000          0.142857          0.000000   \n",
       "2                  0           0.098039          0.051948          0.233126   \n",
       "3                  0           0.333333          0.229081          0.524142   \n",
       "4                  0           0.000000          0.161985          0.000000   \n",
       "\n",
       "   num_followers_s  num_followers_d  num_followees_s  num_followees_d  \\\n",
       "0               11                6               15                8   \n",
       "1                4                7                7                0   \n",
       "2               49               11               46               10   \n",
       "3               14                7               13                7   \n",
       "4                7                7               12                0   \n",
       "\n",
       "   inter_followers  inter_followees  ...     svd_v_s_6     svd_v_d_1  \\\n",
       "0                0                0  ...  1.719703e-14 -1.355368e-12   \n",
       "1                2                0  ...  1.347584e-14 -1.240513e-12   \n",
       "2                4                5  ...  7.171148e-15 -4.091095e-13   \n",
       "3                6                5  ...  1.597539e-18 -1.903970e-16   \n",
       "4                3                0  ...  6.503282e-19 -4.760155e-19   \n",
       "\n",
       "      svd_v_d_2     svd_v_d_3     svd_v_d_4     svd_v_d_5     svd_v_d_6  \\\n",
       "0  4.675302e-13  1.128589e-06  6.616669e-14  9.771059e-13  4.160011e-14   \n",
       "1  4.237680e-13  1.125696e-09  1.917101e-12  1.483785e-12  2.649401e-12   \n",
       "2  4.076675e-14  2.783363e-12  4.809181e-13  9.748510e-14  1.847969e-16   \n",
       "3  4.652690e-16  4.073271e-15  8.574630e-17  1.387813e-15  7.993854e-19   \n",
       "4  2.910335e-16  1.515485e-15  1.854415e-18  3.395863e-18  3.250485e-19   \n",
       "\n",
       "   preferential_attachment_followees  preferential_attachment_followers  \\\n",
       "0                                120                                 66   \n",
       "1                                  0                                 28   \n",
       "2                                460                                539   \n",
       "3                                 91                                 98   \n",
       "4                                  0                                 49   \n",
       "\n",
       "   svd_dot_product  \n",
       "0     1.338835e-11  \n",
       "1     2.384645e-20  \n",
       "2     1.252459e-21  \n",
       "3     2.609823e-28  \n",
       "4     3.974762e-30  \n",
       "\n",
       "[5 rows x 55 columns]"
      ]
     },
     "execution_count": 34,
     "metadata": {},
     "output_type": "execute_result"
    }
   ],
   "source": [
    "df_final_train.head()"
   ]
  },
  {
   "cell_type": "code",
   "execution_count": 35,
   "metadata": {},
   "outputs": [
    {
     "data": {
      "text/html": [
       "<div>\n",
       "<style scoped>\n",
       "    .dataframe tbody tr th:only-of-type {\n",
       "        vertical-align: middle;\n",
       "    }\n",
       "\n",
       "    .dataframe tbody tr th {\n",
       "        vertical-align: top;\n",
       "    }\n",
       "\n",
       "    .dataframe thead th {\n",
       "        text-align: right;\n",
       "    }\n",
       "</style>\n",
       "<table border=\"1\" class=\"dataframe\">\n",
       "  <thead>\n",
       "    <tr style=\"text-align: right;\">\n",
       "      <th></th>\n",
       "      <th>jaccard_followers</th>\n",
       "      <th>jaccard_followees</th>\n",
       "      <th>cosine_followers</th>\n",
       "      <th>cosine_followees</th>\n",
       "      <th>num_followers_s</th>\n",
       "      <th>num_followers_d</th>\n",
       "      <th>num_followees_s</th>\n",
       "      <th>num_followees_d</th>\n",
       "      <th>inter_followers</th>\n",
       "      <th>inter_followees</th>\n",
       "      <th>...</th>\n",
       "      <th>svd_v_s_6</th>\n",
       "      <th>svd_v_d_1</th>\n",
       "      <th>svd_v_d_2</th>\n",
       "      <th>svd_v_d_3</th>\n",
       "      <th>svd_v_d_4</th>\n",
       "      <th>svd_v_d_5</th>\n",
       "      <th>svd_v_d_6</th>\n",
       "      <th>preferential_attachment_followees</th>\n",
       "      <th>preferential_attachment_followers</th>\n",
       "      <th>svd_dot_product</th>\n",
       "    </tr>\n",
       "  </thead>\n",
       "  <tbody>\n",
       "    <tr>\n",
       "      <th>0</th>\n",
       "      <td>0</td>\n",
       "      <td>0.000000</td>\n",
       "      <td>0.029161</td>\n",
       "      <td>0.000000</td>\n",
       "      <td>6</td>\n",
       "      <td>14</td>\n",
       "      <td>6</td>\n",
       "      <td>9</td>\n",
       "      <td>1</td>\n",
       "      <td>0</td>\n",
       "      <td>...</td>\n",
       "      <td>5.535489e-14</td>\n",
       "      <td>-9.994074e-10</td>\n",
       "      <td>5.791890e-10</td>\n",
       "      <td>3.512358e-07</td>\n",
       "      <td>2.486659e-09</td>\n",
       "      <td>2.771126e-09</td>\n",
       "      <td>1.727685e-12</td>\n",
       "      <td>54</td>\n",
       "      <td>84</td>\n",
       "      <td>2.083237e-17</td>\n",
       "    </tr>\n",
       "    <tr>\n",
       "      <th>1</th>\n",
       "      <td>0</td>\n",
       "      <td>0.187500</td>\n",
       "      <td>0.157485</td>\n",
       "      <td>0.358569</td>\n",
       "      <td>7</td>\n",
       "      <td>12</td>\n",
       "      <td>5</td>\n",
       "      <td>14</td>\n",
       "      <td>5</td>\n",
       "      <td>3</td>\n",
       "      <td>...</td>\n",
       "      <td>1.262255e-18</td>\n",
       "      <td>-1.152091e-16</td>\n",
       "      <td>1.421397e-11</td>\n",
       "      <td>8.108408e-15</td>\n",
       "      <td>5.273874e-16</td>\n",
       "      <td>1.418345e-13</td>\n",
       "      <td>1.925426e-18</td>\n",
       "      <td>70</td>\n",
       "      <td>84</td>\n",
       "      <td>3.215717e-22</td>\n",
       "    </tr>\n",
       "    <tr>\n",
       "      <th>2</th>\n",
       "      <td>0</td>\n",
       "      <td>0.000000</td>\n",
       "      <td>0.051805</td>\n",
       "      <td>0.000000</td>\n",
       "      <td>73</td>\n",
       "      <td>122</td>\n",
       "      <td>28</td>\n",
       "      <td>0</td>\n",
       "      <td>54</td>\n",
       "      <td>0</td>\n",
       "      <td>...</td>\n",
       "      <td>2.106447e-06</td>\n",
       "      <td>-1.208154e-12</td>\n",
       "      <td>2.721133e-14</td>\n",
       "      <td>1.976924e-12</td>\n",
       "      <td>-1.766527e-11</td>\n",
       "      <td>2.396330e-13</td>\n",
       "      <td>8.069914e-05</td>\n",
       "      <td>0</td>\n",
       "      <td>8906</td>\n",
       "      <td>1.699884e-10</td>\n",
       "    </tr>\n",
       "    <tr>\n",
       "      <th>3</th>\n",
       "      <td>0</td>\n",
       "      <td>0.021739</td>\n",
       "      <td>0.000000</td>\n",
       "      <td>0.050252</td>\n",
       "      <td>43</td>\n",
       "      <td>11</td>\n",
       "      <td>36</td>\n",
       "      <td>11</td>\n",
       "      <td>0</td>\n",
       "      <td>1</td>\n",
       "      <td>...</td>\n",
       "      <td>2.050646e-14</td>\n",
       "      <td>-2.334162e-12</td>\n",
       "      <td>5.258642e-10</td>\n",
       "      <td>1.389547e-10</td>\n",
       "      <td>7.992433e-10</td>\n",
       "      <td>1.078892e-09</td>\n",
       "      <td>2.588075e-13</td>\n",
       "      <td>396</td>\n",
       "      <td>473</td>\n",
       "      <td>6.821693e-19</td>\n",
       "    </tr>\n",
       "    <tr>\n",
       "      <th>4</th>\n",
       "      <td>0</td>\n",
       "      <td>0.000000</td>\n",
       "      <td>0.000000</td>\n",
       "      <td>0.000000</td>\n",
       "      <td>1</td>\n",
       "      <td>6</td>\n",
       "      <td>0</td>\n",
       "      <td>3</td>\n",
       "      <td>0</td>\n",
       "      <td>0</td>\n",
       "      <td>...</td>\n",
       "      <td>0.000000e+00</td>\n",
       "      <td>-1.949308e-13</td>\n",
       "      <td>1.340613e-14</td>\n",
       "      <td>1.431608e-13</td>\n",
       "      <td>1.773713e-14</td>\n",
       "      <td>1.016923e-13</td>\n",
       "      <td>4.527517e-15</td>\n",
       "      <td>0</td>\n",
       "      <td>6</td>\n",
       "      <td>-1.575727e-30</td>\n",
       "    </tr>\n",
       "  </tbody>\n",
       "</table>\n",
       "<p>5 rows × 55 columns</p>\n",
       "</div>"
      ],
      "text/plain": [
       "   jaccard_followers  jaccard_followees  cosine_followers  cosine_followees  \\\n",
       "0                  0           0.000000          0.029161          0.000000   \n",
       "1                  0           0.187500          0.157485          0.358569   \n",
       "2                  0           0.000000          0.051805          0.000000   \n",
       "3                  0           0.021739          0.000000          0.050252   \n",
       "4                  0           0.000000          0.000000          0.000000   \n",
       "\n",
       "   num_followers_s  num_followers_d  num_followees_s  num_followees_d  \\\n",
       "0                6               14                6                9   \n",
       "1                7               12                5               14   \n",
       "2               73              122               28                0   \n",
       "3               43               11               36               11   \n",
       "4                1                6                0                3   \n",
       "\n",
       "   inter_followers  inter_followees  ...     svd_v_s_6     svd_v_d_1  \\\n",
       "0                1                0  ...  5.535489e-14 -9.994074e-10   \n",
       "1                5                3  ...  1.262255e-18 -1.152091e-16   \n",
       "2               54                0  ...  2.106447e-06 -1.208154e-12   \n",
       "3                0                1  ...  2.050646e-14 -2.334162e-12   \n",
       "4                0                0  ...  0.000000e+00 -1.949308e-13   \n",
       "\n",
       "      svd_v_d_2     svd_v_d_3     svd_v_d_4     svd_v_d_5     svd_v_d_6  \\\n",
       "0  5.791890e-10  3.512358e-07  2.486659e-09  2.771126e-09  1.727685e-12   \n",
       "1  1.421397e-11  8.108408e-15  5.273874e-16  1.418345e-13  1.925426e-18   \n",
       "2  2.721133e-14  1.976924e-12 -1.766527e-11  2.396330e-13  8.069914e-05   \n",
       "3  5.258642e-10  1.389547e-10  7.992433e-10  1.078892e-09  2.588075e-13   \n",
       "4  1.340613e-14  1.431608e-13  1.773713e-14  1.016923e-13  4.527517e-15   \n",
       "\n",
       "   preferential_attachment_followees  preferential_attachment_followers  \\\n",
       "0                                 54                                 84   \n",
       "1                                 70                                 84   \n",
       "2                                  0                               8906   \n",
       "3                                396                                473   \n",
       "4                                  0                                  6   \n",
       "\n",
       "   svd_dot_product  \n",
       "0     2.083237e-17  \n",
       "1     3.215717e-22  \n",
       "2     1.699884e-10  \n",
       "3     6.821693e-19  \n",
       "4    -1.575727e-30  \n",
       "\n",
       "[5 rows x 55 columns]"
      ]
     },
     "execution_count": 35,
     "metadata": {},
     "output_type": "execute_result"
    }
   ],
   "source": [
    "df_final_test.head()"
   ]
  },
  {
   "cell_type": "code",
   "execution_count": 38,
   "metadata": {},
   "outputs": [],
   "source": [
    "from xgboost import XGBClassifier"
   ]
  },
  {
   "cell_type": "code",
   "execution_count": 41,
   "metadata": {},
   "outputs": [
    {
     "name": "stdout",
     "output_type": "stream",
     "text": [
      "Fitting 10 folds for each of 5 candidates, totalling 50 fits\n"
     ]
    },
    {
     "name": "stderr",
     "output_type": "stream",
     "text": [
      "[Parallel(n_jobs=-1)]: Using backend LokyBackend with 4 concurrent workers.\n",
      "[Parallel(n_jobs=-1)]: Done  24 tasks      | elapsed: 29.8min\n",
      "[Parallel(n_jobs=-1)]: Done  50 out of  50 | elapsed: 51.8min finished\n"
     ]
    },
    {
     "name": "stdout",
     "output_type": "stream",
     "text": [
      "mean test scores [0.98157049 0.98153097 0.98164212 0.98184261 0.98200255]\n"
     ]
    }
   ],
   "source": [
    "param_dist = {\n",
    "              \"n_estimators\":sp_randint(105,125),\n",
    "              \"max_depth\": sp_randint(10,15),\n",
    "#               \"min_samples_split\": sp_randint(110,190),\n",
    "#               \"min_samples_leaf\": sp_randint(25,65)\n",
    "             }\n",
    "\n",
    "clf = XGBClassifier(random_state=25,n_jobs=-1)\n",
    "\n",
    "xgb_random = RandomizedSearchCV(clf, param_distributions=param_dist,\n",
    "                                   n_iter=5,cv=10,scoring='f1',random_state=25, verbose=3,n_jobs=-1)\n",
    "\n",
    "xgb_random.fit(df_final_train,y_train)\n",
    "print('mean test scores',xgb_random.cv_results_['mean_test_score'])\n",
    "# print('mean train scores',rf_random.cv_results_['mean_train_score'])"
   ]
  },
  {
   "cell_type": "code",
   "execution_count": 43,
   "metadata": {},
   "outputs": [
    {
     "name": "stdout",
     "output_type": "stream",
     "text": [
      "XGBClassifier(base_score=0.5, booster='gbtree', colsample_bylevel=1,\n",
      "              colsample_bynode=1, colsample_bytree=1, gamma=0,\n",
      "              learning_rate=0.1, max_delta_step=0, max_depth=11,\n",
      "              min_child_weight=1, missing=None, n_estimators=112, n_jobs=-1,\n",
      "              nthread=None, objective='binary:logistic', random_state=25,\n",
      "              reg_alpha=0, reg_lambda=1, scale_pos_weight=1, seed=None,\n",
      "              silent=None, subsample=1, verbosity=1)\n"
     ]
    }
   ],
   "source": [
    "print(xgb_random.best_estimator_)"
   ]
  },
  {
   "cell_type": "code",
   "execution_count": 44,
   "metadata": {},
   "outputs": [],
   "source": [
    "clf = XGBClassifier(base_score=0.5, booster='gbtree', colsample_bylevel=1,\n",
    "              colsample_bynode=1, colsample_bytree=1, gamma=0,\n",
    "              learning_rate=0.1, max_delta_step=0, max_depth=11,\n",
    "              min_child_weight=1, missing=None, n_estimators=112, n_jobs=-1,\n",
    "              nthread=None, objective='binary:logistic', random_state=25,\n",
    "              reg_alpha=0, reg_lambda=1, scale_pos_weight=1, seed=None,\n",
    "              silent=None, subsample=1, verbosity=1)"
   ]
  },
  {
   "cell_type": "code",
   "execution_count": 45,
   "metadata": {},
   "outputs": [],
   "source": [
    "clf.fit(df_final_train,y_train)\n",
    "y_train_pred = clf.predict(df_final_train)\n",
    "y_test_pred = clf.predict(df_final_test)"
   ]
  },
  {
   "cell_type": "code",
   "execution_count": 46,
   "metadata": {},
   "outputs": [
    {
     "name": "stdout",
     "output_type": "stream",
     "text": [
      "Train f1 score 0.9955955916057158\n",
      "Test f1 score 0.9247220391589956\n"
     ]
    }
   ],
   "source": [
    "from sklearn.metrics import f1_score\n",
    "print('Train f1 score',f1_score(y_train,y_train_pred))\n",
    "print('Test f1 score',f1_score(y_test,y_test_pred))"
   ]
  },
  {
   "cell_type": "code",
   "execution_count": 47,
   "metadata": {},
   "outputs": [
    {
     "name": "stdout",
     "output_type": "stream",
     "text": [
      "Train confusion_matrix\n"
     ]
    },
    {
     "data": {
      "image/png": "[encoded data removed]",
      "text/plain": [
       "<Figure size 1440x288 with 6 Axes>"
      ]
     },
     "metadata": {
      "needs_background": "light"
     },
     "output_type": "display_data"
    },
    {
     "name": "stdout",
     "output_type": "stream",
     "text": [
      "Test confusion_matrix\n"
     ]
    },
    {
     "data": {
      "image/png": "[encoded data removed]",
      "text/plain": [
       "<Figure size 1440x288 with 6 Axes>"
      ]
     },
     "metadata": {
      "needs_background": "light"
     },
     "output_type": "display_data"
    }
   ],
   "source": [
    "print('Train confusion_matrix')\n",
    "plot_confusion_matrix(y_train,y_train_pred)\n",
    "print('Test confusion_matrix')\n",
    "plot_confusion_matrix(y_test,y_test_pred)"
   ]
  },
  {
   "cell_type": "code",
   "execution_count": 48,
   "metadata": {},
   "outputs": [
    {
     "data": {
      "image/png": "[encoded data removed]",
      "text/plain": [
       "<Figure size 432x288 with 1 Axes>"
      ]
     },
     "metadata": {
      "needs_background": "light"
     },
     "output_type": "display_data"
    }
   ],
   "source": [
    "from sklearn.metrics import roc_curve, auc\n",
    "fpr,tpr,ths = roc_curve(y_test,y_test_pred)\n",
    "auc_sc = auc(fpr, tpr)\n",
    "plt.plot(fpr, tpr, color='navy',label='ROC curve (area = %0.2f)' % auc_sc)\n",
    "plt.xlabel('False Positive Rate')\n",
    "plt.ylabel('True Positive Rate')\n",
    "plt.title('Receiver operating characteristic with test data')\n",
    "plt.legend()\n",
    "plt.show()"
   ]
  },
  {
   "cell_type": "code",
   "execution_count": 49,
   "metadata": {},
   "outputs": [
    {
     "data": {
      "image/png": "[encoded data removed]",
      "text/plain": [
       "<Figure size 720x864 with 1 Axes>"
      ]
     },
     "metadata": {
      "needs_background": "light"
     },
     "output_type": "display_data"
    }
   ],
   "source": [
    "features = df_final_train.columns\n",
    "importances = clf.feature_importances_\n",
    "indices = (np.argsort(importances))[-25:]\n",
    "plt.figure(figsize=(10,12))\n",
    "plt.title('Feature Importances')\n",
    "plt.barh(range(len(indices)), importances[indices], color='r', align='center')\n",
    "plt.yticks(range(len(indices)), [features[i] for i in indices])\n",
    "plt.xlabel('Relative Importance')\n",
    "plt.show()"
   ]
  },
  {
   "cell_type": "markdown",
   "metadata": {},
   "source": [
    "# Model Comparision"
   ]
  },
  {
   "cell_type": "code",
   "execution_count": 50,
   "metadata": {},
   "outputs": [
    {
     "name": "stdout",
     "output_type": "stream",
     "text": [
      "+------------------------+-------------------------------------------------------------------------+--------------------+--------------------+\n",
      "|         Model          |                              HyperParameter                             |   Train F1 Score   |   Test F1 Score    |\n",
      "+------------------------+-------------------------------------------------------------------------+--------------------+--------------------+\n",
      "| RandomForestClassifier | n_estimators=121,max_depth=14,min_samples_split=111,min_samples_leaf=28 | 0.967626805932229  | 0.9264445381695486 |\n",
      "|   XgboostClassifier    |                      n_estimators=112,max_depth=11                      | 0.9955955916057158 | 0.9247220391589956 |\n",
      "+------------------------+-------------------------------------------------------------------------+--------------------+--------------------+\n"
     ]
    }
   ],
   "source": [
    "from prettytable import PrettyTable\n",
    "\n",
    "table = PrettyTable()\n",
    "table.field_names = ['Model', 'HyperParameter', 'Train F1 Score', 'Test F1 Score']\n",
    "table.add_row(['RandomForestClassifier', 'n_estimators=121,max_depth=14,min_samples_split=111,min_samples_leaf=28', 0.967626805932229, 0.9264445381695486])\n",
    "table.add_row(['XgboostClassifier', 'n_estimators=112,max_depth=11', 0.9955955916057158, 0.9247220391589956])\n",
    "\n",
    "print(table)\n"
   ]
  },
  {
   "cell_type": "markdown",
   "metadata": {},
   "source": [
    "# Observations"
   ]
  },
  {
   "cell_type": "markdown",
   "metadata": {},
   "source": [
    "- Did EDA on FB friend recommendation\n",
    "- Calculated three new features (preferential_attachment_followees, preferential_attachment_followers and svd_dot_product)\n",
    "- Implement Xgboost Model with newly added features\n",
    "- Hyperparameter tune Xgboost Model"
   ]
  },
  {
   "cell_type": "code",
   "execution_count": null,
   "metadata": {},
   "outputs": [],
   "source": []
  }
 ],
 "metadata": {
  "colab": {
   "collapsed_sections": [],
   "name": "FB_Models.ipynb",
   "provenance": [],
   "version": "0.3.2"
  },
  "kernelspec": {
   "display_name": "Python 3",
   "language": "python",
   "name": "python3"
  },
  "language_info": {
   "codemirror_mode": {
    "name": "ipython",
    "version": 3
   },
   "file_extension": ".py",
   "mimetype": "text/x-python",
   "name": "python",
   "nbconvert_exporter": "python",
   "pygments_lexer": "ipython3",
   "version": "3.7.3"
  }
 },
 "nbformat": 4,
 "nbformat_minor": 1
}
